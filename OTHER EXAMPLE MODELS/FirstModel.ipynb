{
  "nbformat": 4,
  "nbformat_minor": 0,
  "metadata": {
    "colab": {
      "provenance": [],
      "history_visible": true,
      "authorship_tag": "ABX9TyNp+vfeT2RfmctcYY+gO/y5",
      "include_colab_link": true
    },
    "kernelspec": {
      "name": "python3",
      "display_name": "Python 3"
    },
    "language_info": {
      "name": "python"
    }
  },
  "cells": [
    {
      "cell_type": "markdown",
      "metadata": {
        "id": "view-in-github",
        "colab_type": "text"
      },
      "source": [
        "<a href=\"https://colab.research.google.com/github/Saradhii/FirstModel/blob/main/FirstModel.ipynb\" target=\"_parent\"><img src=\"https://colab.research.google.com/assets/colab-badge.svg\" alt=\"Open In Colab\"/></a>"
      ]
    },
    {
      "cell_type": "code",
      "execution_count": 3,
      "metadata": {
        "colab": {
          "base_uri": "https://localhost:8080/"
        },
        "id": "wgpvFOPwFyGB",
        "outputId": "10d2d297-bb89-40db-ecbe-200c0f0a2f2e"
      },
      "outputs": [
        {
          "output_type": "stream",
          "name": "stdout",
          "text": [
            "Epoch 1/10\n",
            "25/25 [==============================] - 1s 13ms/step - loss: 1.1063 - accuracy: 0.3162 - val_loss: 1.1079 - val_accuracy: 0.3050\n",
            "Epoch 2/10\n",
            "25/25 [==============================] - 0s 4ms/step - loss: 1.1037 - accuracy: 0.3375 - val_loss: 1.1072 - val_accuracy: 0.3050\n",
            "Epoch 3/10\n",
            "25/25 [==============================] - 0s 5ms/step - loss: 1.1030 - accuracy: 0.3363 - val_loss: 1.1075 - val_accuracy: 0.2950\n",
            "Epoch 4/10\n",
            "25/25 [==============================] - 0s 4ms/step - loss: 1.1019 - accuracy: 0.3487 - val_loss: 1.1072 - val_accuracy: 0.3000\n",
            "Epoch 5/10\n",
            "25/25 [==============================] - 0s 4ms/step - loss: 1.1013 - accuracy: 0.3475 - val_loss: 1.1079 - val_accuracy: 0.2800\n",
            "Epoch 6/10\n",
            "25/25 [==============================] - 0s 5ms/step - loss: 1.1004 - accuracy: 0.3525 - val_loss: 1.1071 - val_accuracy: 0.3100\n",
            "Epoch 7/10\n",
            "25/25 [==============================] - 0s 4ms/step - loss: 1.1003 - accuracy: 0.3613 - val_loss: 1.1070 - val_accuracy: 0.2850\n",
            "Epoch 8/10\n",
            "25/25 [==============================] - 0s 5ms/step - loss: 1.1000 - accuracy: 0.3675 - val_loss: 1.1063 - val_accuracy: 0.3100\n",
            "Epoch 9/10\n",
            "25/25 [==============================] - 0s 4ms/step - loss: 1.1004 - accuracy: 0.3450 - val_loss: 1.1076 - val_accuracy: 0.2800\n",
            "Epoch 10/10\n",
            "25/25 [==============================] - 0s 4ms/step - loss: 1.0993 - accuracy: 0.3650 - val_loss: 1.1054 - val_accuracy: 0.3150\n"
          ]
        }
      ],
      "source": [
        "import numpy as np\n",
        "import tensorflow as tf\n",
        "from sklearn.model_selection import train_test_split\n",
        "\n",
        "# Generating sample data\n",
        "num_samples = 1000\n",
        "input_data = np.random.rand(num_samples, 5)  # 1000 samples, each with 5 features\n",
        "labels = np.random.randint(0, 3, size=(num_samples,))  # 3 classes\n",
        "\n",
        "# Convert labels to one-hot encoded vectors (required for classification)\n",
        "labels = tf.keras.utils.to_categorical(labels, num_classes=3)\n",
        "\n",
        "# Splitting the data into training and validation sets\n",
        "x_train, x_val, y_train, y_val = train_test_split(input_data, labels, test_size=0.2, random_state=42)\n",
        "\n",
        "# Define the model\n",
        "model = tf.keras.Sequential([\n",
        "    tf.keras.layers.Dense(8, input_shape=(5,), activation='relu'),  # Input layer to hidden layer\n",
        "    tf.keras.layers.Dense(8, activation='relu'),  # Additional hidden layer (optional)\n",
        "    tf.keras.layers.Dense(3, activation='softmax')  # Output layer\n",
        "])\n",
        "\n",
        "# Compile the model\n",
        "model.compile(optimizer='adam', loss='categorical_crossentropy', metrics=['accuracy'])\n",
        "\n",
        "# Train the model\n",
        "history = model.fit(x_train, y_train, epochs=10, batch_size=32, validation_data=(x_val, y_val))\n",
        "\n",
        "# Save the trained model\n",
        "model.save('my_model')\n",
        "\n",
        "# Load the model (optional)\n",
        "loaded_model = tf.keras.models.load_model('my_model')\n"
      ]
    }
  ]
}