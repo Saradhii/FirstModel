{
  "nbformat": 4,
  "nbformat_minor": 0,
  "metadata": {
    "colab": {
      "provenance": [],
      "authorship_tag": "ABX9TyNAWiV3MjWmU60nGuShUwJq",
      "include_colab_link": true
    },
    "kernelspec": {
      "name": "python3",
      "display_name": "Python 3"
    },
    "language_info": {
      "name": "python"
    }
  },
  "cells": [
    {
      "cell_type": "markdown",
      "metadata": {
        "id": "view-in-github",
        "colab_type": "text"
      },
      "source": [
        "<a href=\"https://colab.research.google.com/github/Saradhii/FirstModel/blob/main/FirstModelQ2.ipynb\" target=\"_parent\"><img src=\"https://colab.research.google.com/assets/colab-badge.svg\" alt=\"Open In Colab\"/></a>"
      ]
    },
    {
      "cell_type": "code",
      "execution_count": 1,
      "metadata": {
        "colab": {
          "base_uri": "https://localhost:8080/"
        },
        "id": "D7t6ga6P1_0p",
        "outputId": "b40dfb18-0858-4997-fc3c-c412faa2a781"
      },
      "outputs": [
        {
          "output_type": "stream",
          "name": "stdout",
          "text": [
            "Epoch 1/10\n",
            "3/3 [==============================] - 2s 240ms/step - loss: 2.3282 - accuracy: 0.3000 - val_loss: 2.1677 - val_accuracy: 0.2667\n",
            "Epoch 2/10\n",
            "3/3 [==============================] - 0s 39ms/step - loss: 2.2648 - accuracy: 0.2778 - val_loss: 2.1065 - val_accuracy: 0.2667\n",
            "Epoch 3/10\n",
            "3/3 [==============================] - 0s 37ms/step - loss: 2.2010 - accuracy: 0.2778 - val_loss: 2.0446 - val_accuracy: 0.2333\n",
            "Epoch 4/10\n",
            "3/3 [==============================] - 0s 37ms/step - loss: 2.1349 - accuracy: 0.2889 - val_loss: 1.9819 - val_accuracy: 0.2333\n",
            "Epoch 5/10\n",
            "3/3 [==============================] - 0s 85ms/step - loss: 2.0641 - accuracy: 0.3000 - val_loss: 1.9156 - val_accuracy: 0.2333\n",
            "Epoch 6/10\n",
            "3/3 [==============================] - 0s 31ms/step - loss: 1.9907 - accuracy: 0.3111 - val_loss: 1.8500 - val_accuracy: 0.3000\n",
            "Epoch 7/10\n",
            "3/3 [==============================] - 0s 70ms/step - loss: 1.9192 - accuracy: 0.3111 - val_loss: 1.7936 - val_accuracy: 0.3000\n",
            "Epoch 8/10\n",
            "3/3 [==============================] - 0s 45ms/step - loss: 1.8612 - accuracy: 0.3333 - val_loss: 1.7439 - val_accuracy: 0.3000\n",
            "Epoch 9/10\n",
            "3/3 [==============================] - 0s 54ms/step - loss: 1.8069 - accuracy: 0.3444 - val_loss: 1.6907 - val_accuracy: 0.3000\n",
            "Epoch 10/10\n",
            "3/3 [==============================] - 0s 33ms/step - loss: 1.7488 - accuracy: 0.3444 - val_loss: 1.6381 - val_accuracy: 0.3000\n",
            "Model has been trained and saved.\n",
            "Model has been loaded.\n",
            "1/1 - 1s - loss: 1.7713 - accuracy: 0.3333 - 623ms/epoch - 623ms/step\n",
            "Test accuracy: 0.3333333432674408\n"
          ]
        }
      ],
      "source": [
        "import numpy as np\n",
        "import tensorflow as tf\n",
        "from sklearn.model_selection import train_test_split\n",
        "from sklearn.datasets import load_iris\n",
        "\n",
        "# Load the Iris dataset\n",
        "iris = load_iris()\n",
        "input_data = iris.data  # measurements\n",
        "labels = iris.target  # species\n",
        "\n",
        "# Convert labels to one-hot encoded vectors\n",
        "labels = tf.keras.utils.to_categorical(labels, num_classes=3)\n",
        "\n",
        "# Splitting the data into training, validation and test sets\n",
        "x_temp, x_test, y_temp, y_test = train_test_split(input_data, labels, test_size=0.2, random_state=42)\n",
        "x_train, x_val, y_train, y_val = train_test_split(x_temp, y_temp, test_size=0.25, random_state=42)\n",
        "\n",
        "# Define the model\n",
        "model = tf.keras.Sequential([\n",
        "    tf.keras.layers.Dense(8, input_shape=(4,), activation='relu'),  # Input layer to hidden layer\n",
        "    tf.keras.layers.Dense(8, activation='relu'),  # Additional hidden layer (optional)\n",
        "    tf.keras.layers.Dense(3, activation='softmax')  # Output layer\n",
        "])\n",
        "\n",
        "# Compile the model\n",
        "model.compile(optimizer='adam', loss='categorical_crossentropy', metrics=['accuracy'])\n",
        "\n",
        "# Train the model\n",
        "history = model.fit(x_train, y_train, epochs=10, batch_size=32, validation_data=(x_val, y_val))\n",
        "\n",
        "# Save the trained model\n",
        "model.save('my_model')\n",
        "print(\"Model has been trained and saved.\")\n",
        "\n",
        "# Load the model\n",
        "loaded_model = tf.keras.models.load_model('my_model')\n",
        "print(\"Model has been loaded.\")\n",
        "\n",
        "# Test the model\n",
        "test_loss, test_acc = loaded_model.evaluate(x_test, y_test, verbose=2)\n",
        "print('Test accuracy:', test_acc)\n"
      ]
    }
  ]
}