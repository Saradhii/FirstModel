{
  "nbformat": 4,
  "nbformat_minor": 0,
  "metadata": {
    "colab": {
      "provenance": [],
      "authorship_tag": "ABX9TyPXbMUAa0CMmF3JHJwBv28Z",
      "include_colab_link": true
    },
    "kernelspec": {
      "name": "python3",
      "display_name": "Python 3"
    },
    "language_info": {
      "name": "python"
    }
  },
  "cells": [
    {
      "cell_type": "markdown",
      "metadata": {
        "id": "view-in-github",
        "colab_type": "text"
      },
      "source": [
        "<a href=\"https://colab.research.google.com/github/Saradhii/FirstModel/blob/main/FirstModelQ1.ipynb\" target=\"_parent\"><img src=\"https://colab.research.google.com/assets/colab-badge.svg\" alt=\"Open In Colab\"/></a>"
      ]
    },
    {
      "cell_type": "code",
      "execution_count": 1,
      "metadata": {
        "colab": {
          "base_uri": "https://localhost:8080/"
        },
        "id": "arSmwIlgL8XY",
        "outputId": "8fa4a452-622e-49b9-e327-da271d83a2f1"
      },
      "outputs": [
        {
          "output_type": "stream",
          "name": "stdout",
          "text": [
            "Epoch 1/10\n",
            "250/250 [==============================] - 5s 12ms/step - loss: 1.1049 - accuracy: 0.3351 - val_loss: 1.0984 - val_accuracy: 0.3485\n",
            "Epoch 2/10\n",
            "250/250 [==============================] - 1s 5ms/step - loss: 1.1001 - accuracy: 0.3196 - val_loss: 1.0990 - val_accuracy: 0.3570\n",
            "Epoch 3/10\n",
            "250/250 [==============================] - 2s 10ms/step - loss: 1.0995 - accuracy: 0.3244 - val_loss: 1.0987 - val_accuracy: 0.3495\n",
            "Epoch 4/10\n",
            "250/250 [==============================] - 3s 10ms/step - loss: 1.0992 - accuracy: 0.3356 - val_loss: 1.0987 - val_accuracy: 0.3620\n",
            "Epoch 5/10\n",
            "250/250 [==============================] - 2s 7ms/step - loss: 1.0990 - accuracy: 0.3271 - val_loss: 1.0995 - val_accuracy: 0.3295\n",
            "Epoch 6/10\n",
            "250/250 [==============================] - 1s 6ms/step - loss: 1.0987 - accuracy: 0.3339 - val_loss: 1.0990 - val_accuracy: 0.3475\n",
            "Epoch 7/10\n",
            "250/250 [==============================] - 2s 7ms/step - loss: 1.0986 - accuracy: 0.3465 - val_loss: 1.0997 - val_accuracy: 0.3235\n",
            "Epoch 8/10\n",
            "250/250 [==============================] - 1s 3ms/step - loss: 1.0983 - accuracy: 0.3481 - val_loss: 1.0993 - val_accuracy: 0.3400\n",
            "Epoch 9/10\n",
            "250/250 [==============================] - 1s 3ms/step - loss: 1.0984 - accuracy: 0.3392 - val_loss: 1.0992 - val_accuracy: 0.3425\n",
            "Epoch 10/10\n",
            "250/250 [==============================] - 1s 3ms/step - loss: 1.0982 - accuracy: 0.3369 - val_loss: 1.1001 - val_accuracy: 0.3180\n",
            "Model has been trained and saved.\n",
            "Model has been loaded.\n"
          ]
        }
      ],
      "source": [
        "import numpy as np\n",
        "import tensorflow as tf\n",
        "from sklearn.model_selection import train_test_split\n",
        "\n",
        "# Generating sample data\n",
        "num_samples = 10000\n",
        "input_data = np.random.rand(num_samples, 5)  # 1000 samples, each with 5 features\n",
        "labels = np.random.randint(0, 3, size=(num_samples,))  # 3 classes\n",
        "\n",
        "# Convert labels to one-hot encoded vectors (required for classification)\n",
        "labels = tf.keras.utils.to_categorical(labels, num_classes=3)\n",
        "\n",
        "# Splitting the data into training and validation sets\n",
        "x_train, x_val, y_train, y_val = train_test_split(input_data, labels, test_size=0.2, random_state=42)\n",
        "\n",
        "# Define the model\n",
        "model = tf.keras.Sequential([\n",
        "    tf.keras.layers.Dense(8, input_shape=(5,), activation='relu'),  # Input layer to hidden layer\n",
        "    tf.keras.layers.Dense(8, activation='relu'),  # Additional hidden layer (optional)\n",
        "    tf.keras.layers.Dense(3, activation='softmax')  # Output layer\n",
        "])\n",
        "\n",
        "# Compile the model\n",
        "model.compile(optimizer='adam', loss='categorical_crossentropy', metrics=['accuracy'])\n",
        "\n",
        "# Train the model\n",
        "history = model.fit(x_train, y_train, epochs=10, batch_size=32, validation_data=(x_val, y_val))\n",
        "\n",
        "# Save the trained model\n",
        "model.save('my_model')\n",
        "print(\"Model has been trained and saved.\")\n",
        "\n",
        "# Load the model (optional)\n",
        "loaded_model = tf.keras.models.load_model('my_model')\n",
        "print(\"Model has been loaded.\")\n"
      ]
    }
  ]
}